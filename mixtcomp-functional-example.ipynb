{
  "cells": [
    {
      "metadata": {
        "trusted": false
      },
      "cell_type": "markdown",
      "source": "# RMixtComp functional example"
    },
    {
      "metadata": {},
      "cell_type": "markdown",
      "source": "## Data"
    },
    {
      "metadata": {},
      "cell_type": "markdown",
      "source": "Load the CSV data file as dataframe."
    },
    {
      "metadata": {
        "trusted": true
      },
      "cell_type": "code",
      "source": "data <- read.table(\"mixtcomp-functional-example.csv\", sep = \";\", header = TRUE)\nprint(data$Function[1])",
      "execution_count": null,
      "outputs": []
    },
    {
      "metadata": {},
      "cell_type": "markdown",
      "source": "## Visualize the data"
    },
    {
      "metadata": {
        "trusted": true
      },
      "cell_type": "code",
      "source": "library(RMixtComp)",
      "execution_count": null,
      "outputs": []
    },
    {
      "metadata": {
        "trusted": true
      },
      "cell_type": "code",
      "source": "value <- sapply(data$Function, function(x) convertFunctionalToVector(x)$value)\ntime <- sapply(data$Function, function(x) convertFunctionalToVector(x)$time)\nmatplot(time, value, type = \"l\")",
      "execution_count": null,
      "outputs": []
    },
    {
      "metadata": {},
      "cell_type": "markdown",
      "source": "## Clustering with RMixtComp"
    },
    {
      "metadata": {},
      "cell_type": "markdown",
      "source": "Define the distribution used for each variable and the associated hyperparameters. The functional model requires 2 hyêrparameters: `nSub` is the number of subregressions into which the function will be decomposed, `nCoeff` is the number of polynomial coefficients of each subregression (2 = line). "
    },
    {
      "metadata": {
        "trusted": true
      },
      "cell_type": "code",
      "source": "nSub <- 2\nnCoeff <- 2\nmodel <- list(Function = list(type = \"Func_CS\", \n                              paramStr = paste0(\"nSub: \", nSub, \", nCoeff: \", nCoeff)))",
      "execution_count": null,
      "outputs": []
    },
    {
      "metadata": {},
      "cell_type": "markdown",
      "source": "Define the SEM algorithm's parameters"
    },
    {
      "metadata": {
        "trusted": true
      },
      "cell_type": "code",
      "source": "algo <- list(nbBurnInIter = 50,\n             nbIter = 100,\n             nbGibbsBurnInIter = 50,\n             nbGibbsIter = 100,\n             nInitPerClass = floor(nrow(data)/2),\n             nSemTry = 5,\n             confidenceLevel = 0.95,\n             ratioStableCriterion = 0.99,\n             nStableCriterion = 10)",
      "execution_count": null,
      "outputs": []
    },
    {
      "metadata": {},
      "cell_type": "markdown",
      "source": "Choose the desired number of classes and the number of runs for each given number of classes."
    },
    {
      "metadata": {
        "trusted": true
      },
      "cell_type": "code",
      "source": "nClass <- 1:6\nnRun <- 3",
      "execution_count": null,
      "outputs": []
    },
    {
      "metadata": {
        "trusted": true
      },
      "cell_type": "code",
      "source": "res <- mixtCompLearn(data, model, algo, nClass = 1:6, criterion = \"ICL\", nRun = 3, nCore = 1,  hierarchicalMode = \"no\")",
      "execution_count": null,
      "outputs": []
    },
    {
      "metadata": {},
      "cell_type": "markdown",
      "source": "## Output's Analysis"
    },
    {
      "metadata": {},
      "cell_type": "markdown",
      "source": "### Criterion"
    },
    {
      "metadata": {},
      "cell_type": "markdown",
      "source": "This chart represents the criterion value (choose between BIC and ICL) for each model that was built. The higher the value (close to 0) the better the model. "
    },
    {
      "metadata": {
        "trusted": true
      },
      "cell_type": "code",
      "source": "plotCrit(res, pkg = \"plotly\")",
      "execution_count": null,
      "outputs": []
    },
    {
      "metadata": {},
      "cell_type": "markdown",
      "source": "Choose the number of classes to study in the following."
    },
    {
      "metadata": {
        "trusted": true
      },
      "cell_type": "code",
      "source": "K <- 3\nresK <- extractMixtCompObject(res, K)",
      "execution_count": null,
      "outputs": []
    },
    {
      "metadata": {},
      "cell_type": "markdown",
      "source": "### Variables"
    },
    {
      "metadata": {},
      "cell_type": "markdown",
      "source": "This chart represents the discriminating level of each variable. A high value (close to one) means that the variable is highly discriminating. A low value (close to zero) means that the variable is poorly discriminating."
    },
    {
      "metadata": {
        "trusted": true
      },
      "cell_type": "code",
      "source": "plotDiscrimVar(resK, pkg = \"plotly\")",
      "execution_count": null,
      "outputs": []
    },
    {
      "metadata": {},
      "cell_type": "markdown",
      "source": "This graph displays the similarity between every pair of variable. A high value (close to one) means that the two variables provide the same information for the clustering task (i.e. similar partitions). A low value (close to zero) means that the two variables provide some different information for the clustering task (i.e. different partitions)."
    },
    {
      "metadata": {
        "trusted": true
      },
      "cell_type": "code",
      "source": "heatmapVar(resK)",
      "execution_count": null,
      "outputs": []
    },
    {
      "metadata": {},
      "cell_type": "markdown",
      "source": "Now select the variable to study in the following."
    },
    {
      "metadata": {
        "trusted": true
      },
      "cell_type": "code",
      "source": "variable <- \"Function\"",
      "execution_count": null,
      "outputs": []
    },
    {
      "metadata": {},
      "cell_type": "markdown",
      "source": "This chart summarizes the distribution of the selected variable. "
    },
    {
      "metadata": {
        "trusted": true
      },
      "cell_type": "code",
      "source": "plotDataBoxplot(resK, variable, grl = TRUE, pkg = \"plotly\")",
      "execution_count": null,
      "outputs": []
    },
    {
      "metadata": {},
      "cell_type": "markdown",
      "source": "### Classes"
    },
    {
      "metadata": {},
      "cell_type": "markdown",
      "source": "This chart shows the proportion of individuals in each class."
    },
    {
      "metadata": {
        "trusted": true
      },
      "cell_type": "code",
      "source": "plotProportion(resK, pkg = \"plotly\")",
      "execution_count": null,
      "outputs": []
    },
    {
      "metadata": {},
      "cell_type": "markdown",
      "source": "This chart represents the similarity level between each pair of classes. A high value (close to one) means that the 2 classes are strongly different (i.e. low overlapping). A low value (close to zero) means that the 2 classes are similar for the clustering task (i.e. high overlapping)."
    },
    {
      "metadata": {
        "trusted": true
      },
      "cell_type": "code",
      "source": "heatmapClass(resK)",
      "execution_count": null,
      "outputs": []
    },
    {
      "metadata": {},
      "cell_type": "markdown",
      "source": "The graph displays the discriminating level of each variable for the selected class."
    },
    {
      "metadata": {
        "trusted": true
      },
      "cell_type": "code",
      "source": "class <- 2\nvariable <- \"Function\"",
      "execution_count": null,
      "outputs": []
    },
    {
      "metadata": {
        "trusted": true
      },
      "cell_type": "code",
      "source": "plotDiscrimVar(resK, class = class, pkg = \"plotly\")",
      "execution_count": null,
      "outputs": []
    },
    {
      "metadata": {},
      "cell_type": "markdown",
      "source": "This chart summarizes the distribution of the selected variable for the selected class."
    },
    {
      "metadata": {
        "trusted": true
      },
      "cell_type": "code",
      "source": "plotDataBoxplot(resK, variable, class = class, grl = TRUE, pkg = \"plotly\")",
      "execution_count": null,
      "outputs": []
    },
    {
      "metadata": {},
      "cell_type": "markdown",
      "source": "### Probabilities"
    },
    {
      "metadata": {},
      "cell_type": "markdown",
      "source": "This chart shows the probability of assignment to a class for each individual. Individuals have been reordered in decreasing assignment probability. "
    },
    {
      "metadata": {
        "trusted": true
      },
      "cell_type": "code",
      "source": "heatmapTikSorted(resK)",
      "execution_count": null,
      "outputs": []
    },
    {
      "metadata": {},
      "cell_type": "markdown",
      "source": "### Advanced"
    },
    {
      "metadata": {},
      "cell_type": "markdown",
      "source": "Visualize in a *Gaussian-like way*, and onto R2, results of Gaussian or non-Gaussian based clustering."
    },
    {
      "metadata": {
        "trusted": true
      },
      "cell_type": "code",
      "source": "library(ClusVis)",
      "execution_count": null,
      "outputs": []
    },
    {
      "metadata": {
        "trusted": true
      },
      "cell_type": "code",
      "source": "logTik <- getTik(resK, log = TRUE)\nprop <- getProportion(resK)\nresVisu <- clusvis(logTik, prop)",
      "execution_count": null,
      "outputs": []
    },
    {
      "metadata": {},
      "cell_type": "markdown",
      "source": "#### Component Interpretation"
    },
    {
      "metadata": {
        "trusted": true
      },
      "cell_type": "code",
      "source": "plotDensityClusVisu(resVisu, add.obs = TRUE)",
      "execution_count": null,
      "outputs": []
    },
    {
      "metadata": {},
      "cell_type": "markdown",
      "source": "#### Observation Scatter-plot "
    },
    {
      "metadata": {
        "trusted": true
      },
      "cell_type": "code",
      "source": "plotDensityClusVisu(resVisu, add.obs = FALSE)",
      "execution_count": null,
      "outputs": []
    }
  ],
  "metadata": {
    "kernelspec": {
      "name": "ir",
      "display_name": "R",
      "language": "R"
    },
    "language_info": {
      "name": "R",
      "codemirror_mode": "r",
      "pygments_lexer": "r",
      "mimetype": "text/x-r-source",
      "file_extension": ".r",
      "version": "3.6.3"
    }
  },
  "nbformat": 4,
  "nbformat_minor": 4
}
